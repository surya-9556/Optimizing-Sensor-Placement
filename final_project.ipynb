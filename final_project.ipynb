{
 "cells": [
  {
   "cell_type": "markdown",
   "metadata": {},
   "source": [
    "### Importing libraries"
   ]
  },
  {
   "cell_type": "code",
   "execution_count": 1,
   "metadata": {},
   "outputs": [],
   "source": [
    "import os\n",
    "import numpy as np\n",
    "import pandas as pd\n",
    "import seaborn as sns\n",
    "import matplotlib.pyplot as plt\n",
    "\n",
    "from sklearn.preprocessing import StandardScaler\n",
    "from Functions import anoamly_detection\n",
    "from main import OptimizingPlacement"
   ]
  },
  {
   "cell_type": "code",
   "execution_count": 2,
   "metadata": {},
   "outputs": [],
   "source": [
    "placement = OptimizingPlacement()\n",
    "anomaly_detection = anoamly_detection.AnomalyDetection()"
   ]
  },
  {
   "cell_type": "code",
   "execution_count": 3,
   "metadata": {},
   "outputs": [],
   "source": [
    "file_name = os.getenv('file_name')\n",
    "zipped_file = os.getenv(\"ziped_file\")\n",
    "output_dir = os.getenv('sensor_heatmaps')\n",
    "video_output = os.getenv('temperature_output')"
   ]
  },
  {
   "cell_type": "code",
   "execution_count": 4,
   "metadata": {},
   "outputs": [],
   "source": [
    "combined_data, keys_list = placement.extracting_files(zipped_file)"
   ]
  },
  {
   "cell_type": "code",
   "execution_count": 5,
   "metadata": {},
   "outputs": [
    {
     "data": {
      "text/html": [
       "<div>\n",
       "<style scoped>\n",
       "    .dataframe tbody tr th:only-of-type {\n",
       "        vertical-align: middle;\n",
       "    }\n",
       "\n",
       "    .dataframe tbody tr th {\n",
       "        vertical-align: top;\n",
       "    }\n",
       "\n",
       "    .dataframe thead th {\n",
       "        text-align: right;\n",
       "    }\n",
       "</style>\n",
       "<table border=\"1\" class=\"dataframe\">\n",
       "  <thead>\n",
       "    <tr style=\"text-align: right;\">\n",
       "      <th></th>\n",
       "      <th>Time</th>\n",
       "      <th>Temperature</th>\n",
       "      <th>Humidity</th>\n",
       "      <th>Sensor ID</th>\n",
       "      <th>Sensor Name</th>\n",
       "    </tr>\n",
       "  </thead>\n",
       "  <tbody>\n",
       "    <tr>\n",
       "      <th>0</th>\n",
       "      <td>2024-05-14 02:18:22</td>\n",
       "      <td>15.25</td>\n",
       "      <td>92.8</td>\n",
       "      <td>047D6</td>\n",
       "      <td>047D6 T/RH IP67</td>\n",
       "    </tr>\n",
       "    <tr>\n",
       "      <th>1</th>\n",
       "      <td>2024-05-04 21:21:36</td>\n",
       "      <td>13.95</td>\n",
       "      <td>71</td>\n",
       "      <td>047D6</td>\n",
       "      <td>047D6 T/RH IP67</td>\n",
       "    </tr>\n",
       "    <tr>\n",
       "      <th>2</th>\n",
       "      <td>2024-05-04 21:26:37</td>\n",
       "      <td>13.65</td>\n",
       "      <td>71.8</td>\n",
       "      <td>047D6</td>\n",
       "      <td>047D6 T/RH IP67</td>\n",
       "    </tr>\n",
       "    <tr>\n",
       "      <th>3</th>\n",
       "      <td>2024-05-04 21:31:35</td>\n",
       "      <td>13.4</td>\n",
       "      <td>72.6</td>\n",
       "      <td>047D6</td>\n",
       "      <td>047D6 T/RH IP67</td>\n",
       "    </tr>\n",
       "    <tr>\n",
       "      <th>4</th>\n",
       "      <td>2024-05-04 21:36:36</td>\n",
       "      <td>13.4</td>\n",
       "      <td>73.4</td>\n",
       "      <td>047D6</td>\n",
       "      <td>047D6 T/RH IP67</td>\n",
       "    </tr>\n",
       "  </tbody>\n",
       "</table>\n",
       "</div>"
      ],
      "text/plain": [
       "                 Time Temperature Humidity Sensor ID      Sensor Name\n",
       "0 2024-05-14 02:18:22       15.25     92.8     047D6  047D6 T/RH IP67\n",
       "1 2024-05-04 21:21:36       13.95       71     047D6  047D6 T/RH IP67\n",
       "2 2024-05-04 21:26:37       13.65     71.8     047D6  047D6 T/RH IP67\n",
       "3 2024-05-04 21:31:35        13.4     72.6     047D6  047D6 T/RH IP67\n",
       "4 2024-05-04 21:36:36        13.4     73.4     047D6  047D6 T/RH IP67"
      ]
     },
     "execution_count": 5,
     "metadata": {},
     "output_type": "execute_result"
    }
   ],
   "source": [
    "combined_data.head()"
   ]
  },
  {
   "cell_type": "code",
   "execution_count": 6,
   "metadata": {},
   "outputs": [
    {
     "data": {
      "text/plain": [
       "'Successfully generated the heatmap video.'"
      ]
     },
     "execution_count": 6,
     "metadata": {},
     "output_type": "execute_result"
    }
   ],
   "source": [
    "placement.heatmap_video_gen(combined_data, output_dir, video_output)"
   ]
  },
  {
   "cell_type": "code",
   "execution_count": 7,
   "metadata": {},
   "outputs": [
    {
     "data": {
      "text/plain": [
       "Time              0\n",
       "Temperature    9351\n",
       "Humidity       9351\n",
       "Sensor ID         0\n",
       "Sensor Name       0\n",
       "dtype: int64"
      ]
     },
     "execution_count": 7,
     "metadata": {},
     "output_type": "execute_result"
    }
   ],
   "source": [
    "combined_data.isnull().sum()"
   ]
  },
  {
   "cell_type": "code",
   "execution_count": 8,
   "metadata": {},
   "outputs": [],
   "source": [
    "combined_data['Humidity'] = combined_data['Humidity'].astype('float')\n",
    "combined_data['Temperature'] = combined_data['Temperature'].astype('float')"
   ]
  },
  {
   "cell_type": "code",
   "execution_count": 9,
   "metadata": {},
   "outputs": [],
   "source": [
    "combined_data['Day'] = pd.DatetimeIndex(combined_data['Time']).day\n",
    "combined_data['Time_Instance'] = pd.DatetimeIndex(combined_data['Time']).time\n",
    "combined_data['Year'] = pd.DatetimeIndex(combined_data['Time']).year\n",
    "combined_data['Month'] = pd.DatetimeIndex(combined_data['Time']).month"
   ]
  },
  {
   "cell_type": "code",
   "execution_count": 10,
   "metadata": {},
   "outputs": [],
   "source": [
    "combined_data['flag'] = combined_data.isna().any(axis=1).astype(int)"
   ]
  },
  {
   "cell_type": "code",
   "execution_count": 11,
   "metadata": {},
   "outputs": [
    {
     "name": "stdout",
     "output_type": "stream",
     "text": [
      "Epoch 1/20\n",
      "\u001b[1m8008/8008\u001b[0m \u001b[32m━━━━━━━━━━━━━━━━━━━━\u001b[0m\u001b[37m\u001b[0m \u001b[1m10s\u001b[0m 1ms/step - loss: 7.5522 - val_loss: 5.1131\n",
      "Epoch 2/20\n",
      "\u001b[1m8008/8008\u001b[0m \u001b[32m━━━━━━━━━━━━━━━━━━━━\u001b[0m\u001b[37m\u001b[0m \u001b[1m8s\u001b[0m 975us/step - loss: 5.2809 - val_loss: 5.0145\n",
      "Epoch 3/20\n",
      "\u001b[1m8008/8008\u001b[0m \u001b[32m━━━━━━━━━━━━━━━━━━━━\u001b[0m\u001b[37m\u001b[0m \u001b[1m8s\u001b[0m 975us/step - loss: 5.0402 - val_loss: 7.1541\n",
      "Epoch 4/20\n",
      "\u001b[1m8008/8008\u001b[0m \u001b[32m━━━━━━━━━━━━━━━━━━━━\u001b[0m\u001b[37m\u001b[0m \u001b[1m8s\u001b[0m 978us/step - loss: 4.9938 - val_loss: 5.0384\n",
      "Epoch 5/20\n",
      "\u001b[1m8008/8008\u001b[0m \u001b[32m━━━━━━━━━━━━━━━━━━━━\u001b[0m\u001b[37m\u001b[0m \u001b[1m8s\u001b[0m 1ms/step - loss: 4.8460 - val_loss: 4.8182\n",
      "Epoch 6/20\n",
      "\u001b[1m8008/8008\u001b[0m \u001b[32m━━━━━━━━━━━━━━━━━━━━\u001b[0m\u001b[37m\u001b[0m \u001b[1m8s\u001b[0m 973us/step - loss: 4.8868 - val_loss: 4.9801\n",
      "Epoch 7/20\n",
      "\u001b[1m8008/8008\u001b[0m \u001b[32m━━━━━━━━━━━━━━━━━━━━\u001b[0m\u001b[37m\u001b[0m \u001b[1m8s\u001b[0m 998us/step - loss: 4.7659 - val_loss: 4.7707\n",
      "Epoch 8/20\n",
      "\u001b[1m8008/8008\u001b[0m \u001b[32m━━━━━━━━━━━━━━━━━━━━\u001b[0m\u001b[37m\u001b[0m \u001b[1m10s\u001b[0m 1ms/step - loss: 4.7239 - val_loss: 4.8900\n",
      "Epoch 9/20\n",
      "\u001b[1m8008/8008\u001b[0m \u001b[32m━━━━━━━━━━━━━━━━━━━━\u001b[0m\u001b[37m\u001b[0m \u001b[1m9s\u001b[0m 1ms/step - loss: 4.6887 - val_loss: 4.7587\n",
      "Epoch 10/20\n",
      "\u001b[1m8008/8008\u001b[0m \u001b[32m━━━━━━━━━━━━━━━━━━━━\u001b[0m\u001b[37m\u001b[0m \u001b[1m9s\u001b[0m 1ms/step - loss: 4.6089 - val_loss: 4.8006\n",
      "Epoch 11/20\n",
      "\u001b[1m8008/8008\u001b[0m \u001b[32m━━━━━━━━━━━━━━━━━━━━\u001b[0m\u001b[37m\u001b[0m \u001b[1m8s\u001b[0m 1ms/step - loss: 4.6782 - val_loss: 4.6395\n",
      "Epoch 12/20\n",
      "\u001b[1m8008/8008\u001b[0m \u001b[32m━━━━━━━━━━━━━━━━━━━━\u001b[0m\u001b[37m\u001b[0m \u001b[1m8s\u001b[0m 1ms/step - loss: 4.5543 - val_loss: 4.6117\n",
      "Epoch 13/20\n",
      "\u001b[1m8008/8008\u001b[0m \u001b[32m━━━━━━━━━━━━━━━━━━━━\u001b[0m\u001b[37m\u001b[0m \u001b[1m8s\u001b[0m 1ms/step - loss: 4.5134 - val_loss: 4.7323\n",
      "Epoch 14/20\n",
      "\u001b[1m8008/8008\u001b[0m \u001b[32m━━━━━━━━━━━━━━━━━━━━\u001b[0m\u001b[37m\u001b[0m \u001b[1m8s\u001b[0m 998us/step - loss: 4.5192 - val_loss: 5.0337\n",
      "Epoch 15/20\n",
      "\u001b[1m8008/8008\u001b[0m \u001b[32m━━━━━━━━━━━━━━━━━━━━\u001b[0m\u001b[37m\u001b[0m \u001b[1m8s\u001b[0m 1ms/step - loss: 4.3677 - val_loss: 4.9532\n",
      "Epoch 16/20\n",
      "\u001b[1m8008/8008\u001b[0m \u001b[32m━━━━━━━━━━━━━━━━━━━━\u001b[0m\u001b[37m\u001b[0m \u001b[1m8s\u001b[0m 1ms/step - loss: 4.4884 - val_loss: 4.7053\n",
      "Epoch 17/20\n",
      "\u001b[1m8008/8008\u001b[0m \u001b[32m━━━━━━━━━━━━━━━━━━━━\u001b[0m\u001b[37m\u001b[0m \u001b[1m8s\u001b[0m 996us/step - loss: 4.4589 - val_loss: 4.8349\n",
      "Epoch 18/20\n",
      "\u001b[1m8008/8008\u001b[0m \u001b[32m━━━━━━━━━━━━━━━━━━━━\u001b[0m\u001b[37m\u001b[0m \u001b[1m8s\u001b[0m 1ms/step - loss: 4.3895 - val_loss: 4.6633\n",
      "Epoch 19/20\n",
      "\u001b[1m8008/8008\u001b[0m \u001b[32m━━━━━━━━━━━━━━━━━━━━\u001b[0m\u001b[37m\u001b[0m \u001b[1m8s\u001b[0m 1ms/step - loss: 4.4269 - val_loss: 4.6042\n",
      "Epoch 20/20\n",
      "\u001b[1m8008/8008\u001b[0m \u001b[32m━━━━━━━━━━━━━━━━━━━━\u001b[0m\u001b[37m\u001b[0m \u001b[1m8s\u001b[0m 993us/step - loss: 4.3205 - val_loss: 4.8422\n",
      "Epoch 1/20\n",
      "\u001b[1m8008/8008\u001b[0m \u001b[32m━━━━━━━━━━━━━━━━━━━━\u001b[0m\u001b[37m\u001b[0m \u001b[1m9s\u001b[0m 998us/step - loss: 75.0606 - val_loss: 38.0151\n",
      "Epoch 2/20\n",
      "\u001b[1m8008/8008\u001b[0m \u001b[32m━━━━━━━━━━━━━━━━━━━━\u001b[0m\u001b[37m\u001b[0m \u001b[1m8s\u001b[0m 975us/step - loss: 35.4533 - val_loss: 38.6114\n",
      "Epoch 3/20\n",
      "\u001b[1m8008/8008\u001b[0m \u001b[32m━━━━━━━━━━━━━━━━━━━━\u001b[0m\u001b[37m\u001b[0m \u001b[1m8s\u001b[0m 987us/step - loss: 34.3859 - val_loss: 34.7102\n",
      "Epoch 4/20\n",
      "\u001b[1m8008/8008\u001b[0m \u001b[32m━━━━━━━━━━━━━━━━━━━━\u001b[0m\u001b[37m\u001b[0m \u001b[1m8s\u001b[0m 980us/step - loss: 33.6622 - val_loss: 33.2572\n",
      "Epoch 5/20\n",
      "\u001b[1m8008/8008\u001b[0m \u001b[32m━━━━━━━━━━━━━━━━━━━━\u001b[0m\u001b[37m\u001b[0m \u001b[1m8s\u001b[0m 984us/step - loss: 33.2523 - val_loss: 36.4104\n",
      "Epoch 6/20\n",
      "\u001b[1m8008/8008\u001b[0m \u001b[32m━━━━━━━━━━━━━━━━━━━━\u001b[0m\u001b[37m\u001b[0m \u001b[1m8s\u001b[0m 971us/step - loss: 33.7831 - val_loss: 43.5990\n",
      "Epoch 7/20\n",
      "\u001b[1m8008/8008\u001b[0m \u001b[32m━━━━━━━━━━━━━━━━━━━━\u001b[0m\u001b[37m\u001b[0m \u001b[1m8s\u001b[0m 982us/step - loss: 33.2388 - val_loss: 51.0732\n",
      "Epoch 8/20\n",
      "\u001b[1m8008/8008\u001b[0m \u001b[32m━━━━━━━━━━━━━━━━━━━━\u001b[0m\u001b[37m\u001b[0m \u001b[1m8s\u001b[0m 964us/step - loss: 32.6485 - val_loss: 33.4270\n",
      "Epoch 9/20\n",
      "\u001b[1m8008/8008\u001b[0m \u001b[32m━━━━━━━━━━━━━━━━━━━━\u001b[0m\u001b[37m\u001b[0m \u001b[1m8s\u001b[0m 971us/step - loss: 32.2214 - val_loss: 32.5884\n",
      "Epoch 10/20\n",
      "\u001b[1m8008/8008\u001b[0m \u001b[32m━━━━━━━━━━━━━━━━━━━━\u001b[0m\u001b[37m\u001b[0m \u001b[1m8s\u001b[0m 973us/step - loss: 32.4821 - val_loss: 38.5789\n",
      "Epoch 11/20\n",
      "\u001b[1m8008/8008\u001b[0m \u001b[32m━━━━━━━━━━━━━━━━━━━━\u001b[0m\u001b[37m\u001b[0m \u001b[1m8s\u001b[0m 975us/step - loss: 32.1565 - val_loss: 32.4176\n",
      "Epoch 12/20\n",
      "\u001b[1m8008/8008\u001b[0m \u001b[32m━━━━━━━━━━━━━━━━━━━━\u001b[0m\u001b[37m\u001b[0m \u001b[1m8s\u001b[0m 979us/step - loss: 32.4194 - val_loss: 32.9856\n",
      "Epoch 13/20\n",
      "\u001b[1m8008/8008\u001b[0m \u001b[32m━━━━━━━━━━━━━━━━━━━━\u001b[0m\u001b[37m\u001b[0m \u001b[1m8s\u001b[0m 1ms/step - loss: 31.7504 - val_loss: 33.1019\n",
      "Epoch 14/20\n",
      "\u001b[1m8008/8008\u001b[0m \u001b[32m━━━━━━━━━━━━━━━━━━━━\u001b[0m\u001b[37m\u001b[0m \u001b[1m8s\u001b[0m 977us/step - loss: 31.1682 - val_loss: 33.6026\n",
      "Epoch 15/20\n",
      "\u001b[1m8008/8008\u001b[0m \u001b[32m━━━━━━━━━━━━━━━━━━━━\u001b[0m\u001b[37m\u001b[0m \u001b[1m8s\u001b[0m 987us/step - loss: 31.7486 - val_loss: 32.7123\n",
      "Epoch 16/20\n",
      "\u001b[1m8008/8008\u001b[0m \u001b[32m━━━━━━━━━━━━━━━━━━━━\u001b[0m\u001b[37m\u001b[0m \u001b[1m8s\u001b[0m 975us/step - loss: 31.2971 - val_loss: 32.7535\n",
      "Epoch 17/20\n",
      "\u001b[1m8008/8008\u001b[0m \u001b[32m━━━━━━━━━━━━━━━━━━━━\u001b[0m\u001b[37m\u001b[0m \u001b[1m8s\u001b[0m 1ms/step - loss: 30.9468 - val_loss: 32.4633\n",
      "Epoch 18/20\n",
      "\u001b[1m8008/8008\u001b[0m \u001b[32m━━━━━━━━━━━━━━━━━━━━\u001b[0m\u001b[37m\u001b[0m \u001b[1m8s\u001b[0m 987us/step - loss: 31.3959 - val_loss: 31.7706\n",
      "Epoch 19/20\n",
      "\u001b[1m8008/8008\u001b[0m \u001b[32m━━━━━━━━━━━━━━━━━━━━\u001b[0m\u001b[37m\u001b[0m \u001b[1m8s\u001b[0m 981us/step - loss: 30.5416 - val_loss: 31.5386\n",
      "Epoch 20/20\n",
      "\u001b[1m8008/8008\u001b[0m \u001b[32m━━━━━━━━━━━━━━━━━━━━\u001b[0m\u001b[37m\u001b[0m \u001b[1m8s\u001b[0m 1ms/step - loss: 30.4825 - val_loss: 31.7991\n"
     ]
    }
   ],
   "source": [
    "final_dataset = placement.replacing_missing_values(combined_data)"
   ]
  },
  {
   "cell_type": "code",
   "execution_count": 12,
   "metadata": {},
   "outputs": [
    {
     "data": {
      "text/html": [
       "<div>\n",
       "<style scoped>\n",
       "    .dataframe tbody tr th:only-of-type {\n",
       "        vertical-align: middle;\n",
       "    }\n",
       "\n",
       "    .dataframe tbody tr th {\n",
       "        vertical-align: top;\n",
       "    }\n",
       "\n",
       "    .dataframe thead th {\n",
       "        text-align: right;\n",
       "    }\n",
       "</style>\n",
       "<table border=\"1\" class=\"dataframe\">\n",
       "  <thead>\n",
       "    <tr style=\"text-align: right;\">\n",
       "      <th></th>\n",
       "      <th>Time</th>\n",
       "      <th>Temperature</th>\n",
       "      <th>Humidity</th>\n",
       "      <th>Sensor ID</th>\n",
       "      <th>Sensor Name</th>\n",
       "      <th>Day</th>\n",
       "      <th>Time_Instance</th>\n",
       "      <th>Year</th>\n",
       "      <th>Month</th>\n",
       "      <th>flag</th>\n",
       "    </tr>\n",
       "  </thead>\n",
       "  <tbody>\n",
       "    <tr>\n",
       "      <th>358</th>\n",
       "      <td>2024-05-05 05:01:20</td>\n",
       "      <td>9.98</td>\n",
       "      <td>83.50</td>\n",
       "      <td>047D6</td>\n",
       "      <td>047D6 T/RH IP67</td>\n",
       "      <td>5</td>\n",
       "      <td>05:01:20</td>\n",
       "      <td>2024</td>\n",
       "      <td>5</td>\n",
       "      <td>1</td>\n",
       "    </tr>\n",
       "    <tr>\n",
       "      <th>851</th>\n",
       "      <td>2024-05-20 08:31:34</td>\n",
       "      <td>13.95</td>\n",
       "      <td>83.45</td>\n",
       "      <td>047D6</td>\n",
       "      <td>047D6 T/RH IP67</td>\n",
       "      <td>20</td>\n",
       "      <td>08:31:34</td>\n",
       "      <td>2024</td>\n",
       "      <td>5</td>\n",
       "      <td>1</td>\n",
       "    </tr>\n",
       "    <tr>\n",
       "      <th>987</th>\n",
       "      <td>2024-05-07 09:29:43</td>\n",
       "      <td>22.37</td>\n",
       "      <td>56.66</td>\n",
       "      <td>047D6</td>\n",
       "      <td>047D6 T/RH IP67</td>\n",
       "      <td>7</td>\n",
       "      <td>09:29:43</td>\n",
       "      <td>2024</td>\n",
       "      <td>5</td>\n",
       "      <td>1</td>\n",
       "    </tr>\n",
       "    <tr>\n",
       "      <th>1001</th>\n",
       "      <td>2024-05-07 10:39:40</td>\n",
       "      <td>25.21</td>\n",
       "      <td>50.76</td>\n",
       "      <td>047D6</td>\n",
       "      <td>047D6 T/RH IP67</td>\n",
       "      <td>7</td>\n",
       "      <td>10:39:40</td>\n",
       "      <td>2024</td>\n",
       "      <td>5</td>\n",
       "      <td>1</td>\n",
       "    </tr>\n",
       "    <tr>\n",
       "      <th>1038</th>\n",
       "      <td>2024-05-20 15:01:20</td>\n",
       "      <td>30.77</td>\n",
       "      <td>44.69</td>\n",
       "      <td>047D6</td>\n",
       "      <td>047D6 T/RH IP67</td>\n",
       "      <td>20</td>\n",
       "      <td>15:01:20</td>\n",
       "      <td>2024</td>\n",
       "      <td>5</td>\n",
       "      <td>1</td>\n",
       "    </tr>\n",
       "  </tbody>\n",
       "</table>\n",
       "</div>"
      ],
      "text/plain": [
       "                    Time  Temperature  Humidity Sensor ID      Sensor Name  \\\n",
       "358  2024-05-05 05:01:20         9.98     83.50     047D6  047D6 T/RH IP67   \n",
       "851  2024-05-20 08:31:34        13.95     83.45     047D6  047D6 T/RH IP67   \n",
       "987  2024-05-07 09:29:43        22.37     56.66     047D6  047D6 T/RH IP67   \n",
       "1001 2024-05-07 10:39:40        25.21     50.76     047D6  047D6 T/RH IP67   \n",
       "1038 2024-05-20 15:01:20        30.77     44.69     047D6  047D6 T/RH IP67   \n",
       "\n",
       "      Day Time_Instance  Year  Month  flag  \n",
       "358     5      05:01:20  2024      5     1  \n",
       "851    20      08:31:34  2024      5     1  \n",
       "987     7      09:29:43  2024      5     1  \n",
       "1001    7      10:39:40  2024      5     1  \n",
       "1038   20      15:01:20  2024      5     1  "
      ]
     },
     "execution_count": 12,
     "metadata": {},
     "output_type": "execute_result"
    }
   ],
   "source": [
    "final_dataset[final_dataset['flag'] == 1].head()"
   ]
  },
  {
   "cell_type": "code",
   "execution_count": 13,
   "metadata": {},
   "outputs": [],
   "source": [
    "anomalies_list = []\n",
    "temperature_color = 'green'\n",
    "humidity_color = 'blue'\n",
    "\n",
    "for sensor_id, sensor_data in combined_data.groupby('Sensor ID'):\n",
    "    sensor_anomalies = anomaly_detection.detect_anomalies(sensor_data, sensor_id, temperature_color, humidity_color)\n",
    "    anomalies_list.append(sensor_anomalies)\n",
    "\n",
    "all_anomalies = pd.concat(anomalies_list)"
   ]
  },
  {
   "cell_type": "code",
   "execution_count": 14,
   "metadata": {},
   "outputs": [],
   "source": [
    "non_anomalous_data = all_anomalies[(all_anomalies['Temperature_anomaly'] == 0) & (all_anomalies['Humidity_anomaly'] == 0)]\n",
    "\n",
    "X_train = non_anomalous_data[['Temperature', 'Humidity']]\n",
    "y_train_temp = non_anomalous_data['Temperature']\n",
    "y_train_humidity = non_anomalous_data['Humidity']\n",
    "\n",
    "scaler = StandardScaler()\n",
    "X_train_scaled = scaler.fit_transform(X_train)"
   ]
  },
  {
   "cell_type": "code",
   "execution_count": 15,
   "metadata": {},
   "outputs": [
    {
     "name": "stdout",
     "output_type": "stream",
     "text": [
      "Epoch 1/20\n"
     ]
    },
    {
     "name": "stderr",
     "output_type": "stream",
     "text": [
      "e:\\Final Desertation\\env\\Lib\\site-packages\\keras\\src\\layers\\core\\dense.py:87: UserWarning: Do not pass an `input_shape`/`input_dim` argument to a layer. When using Sequential models, prefer using an `Input(shape)` object as the first layer in the model instead.\n",
      "  super().__init__(activity_regularizer=activity_regularizer, **kwargs)\n"
     ]
    },
    {
     "name": "stdout",
     "output_type": "stream",
     "text": [
      "\u001b[1m6176/6176\u001b[0m \u001b[32m━━━━━━━━━━━━━━━━━━━━\u001b[0m\u001b[37m\u001b[0m \u001b[1m9s\u001b[0m 1ms/step - loss: nan - val_loss: nan\n",
      "Epoch 2/20\n",
      "\u001b[1m6176/6176\u001b[0m \u001b[32m━━━━━━━━━━━━━━━━━━━━\u001b[0m\u001b[37m\u001b[0m \u001b[1m7s\u001b[0m 1ms/step - loss: nan - val_loss: nan\n",
      "Epoch 3/20\n",
      "\u001b[1m6176/6176\u001b[0m \u001b[32m━━━━━━━━━━━━━━━━━━━━\u001b[0m\u001b[37m\u001b[0m \u001b[1m7s\u001b[0m 1ms/step - loss: nan - val_loss: nan\n",
      "Epoch 4/20\n",
      "\u001b[1m6176/6176\u001b[0m \u001b[32m━━━━━━━━━━━━━━━━━━━━\u001b[0m\u001b[37m\u001b[0m \u001b[1m7s\u001b[0m 1ms/step - loss: nan - val_loss: nan\n",
      "Epoch 5/20\n",
      "\u001b[1m6176/6176\u001b[0m \u001b[32m━━━━━━━━━━━━━━━━━━━━\u001b[0m\u001b[37m\u001b[0m \u001b[1m7s\u001b[0m 1ms/step - loss: nan - val_loss: nan\n",
      "Epoch 6/20\n",
      "\u001b[1m6176/6176\u001b[0m \u001b[32m━━━━━━━━━━━━━━━━━━━━\u001b[0m\u001b[37m\u001b[0m \u001b[1m7s\u001b[0m 1ms/step - loss: nan - val_loss: nan\n",
      "Epoch 7/20\n",
      "\u001b[1m6176/6176\u001b[0m \u001b[32m━━━━━━━━━━━━━━━━━━━━\u001b[0m\u001b[37m\u001b[0m \u001b[1m7s\u001b[0m 1ms/step - loss: nan - val_loss: nan\n",
      "Epoch 8/20\n",
      "\u001b[1m6176/6176\u001b[0m \u001b[32m━━━━━━━━━━━━━━━━━━━━\u001b[0m\u001b[37m\u001b[0m \u001b[1m7s\u001b[0m 1ms/step - loss: nan - val_loss: nan\n",
      "Epoch 9/20\n",
      "\u001b[1m6176/6176\u001b[0m \u001b[32m━━━━━━━━━━━━━━━━━━━━\u001b[0m\u001b[37m\u001b[0m \u001b[1m7s\u001b[0m 1ms/step - loss: nan - val_loss: nan\n",
      "Epoch 10/20\n",
      "\u001b[1m6176/6176\u001b[0m \u001b[32m━━━━━━━━━━━━━━━━━━━━\u001b[0m\u001b[37m\u001b[0m \u001b[1m7s\u001b[0m 1ms/step - loss: nan - val_loss: nan\n",
      "Epoch 11/20\n",
      "\u001b[1m6176/6176\u001b[0m \u001b[32m━━━━━━━━━━━━━━━━━━━━\u001b[0m\u001b[37m\u001b[0m \u001b[1m7s\u001b[0m 1ms/step - loss: nan - val_loss: nan\n",
      "Epoch 12/20\n",
      "\u001b[1m6176/6176\u001b[0m \u001b[32m━━━━━━━━━━━━━━━━━━━━\u001b[0m\u001b[37m\u001b[0m \u001b[1m7s\u001b[0m 1ms/step - loss: nan - val_loss: nan\n",
      "Epoch 13/20\n",
      "\u001b[1m6176/6176\u001b[0m \u001b[32m━━━━━━━━━━━━━━━━━━━━\u001b[0m\u001b[37m\u001b[0m \u001b[1m7s\u001b[0m 1ms/step - loss: nan - val_loss: nan\n",
      "Epoch 14/20\n",
      "\u001b[1m6176/6176\u001b[0m \u001b[32m━━━━━━━━━━━━━━━━━━━━\u001b[0m\u001b[37m\u001b[0m \u001b[1m8s\u001b[0m 1ms/step - loss: nan - val_loss: nan\n",
      "Epoch 15/20\n",
      "\u001b[1m6176/6176\u001b[0m \u001b[32m━━━━━━━━━━━━━━━━━━━━\u001b[0m\u001b[37m\u001b[0m \u001b[1m8s\u001b[0m 1ms/step - loss: nan - val_loss: nan\n",
      "Epoch 16/20\n",
      "\u001b[1m6176/6176\u001b[0m \u001b[32m━━━━━━━━━━━━━━━━━━━━\u001b[0m\u001b[37m\u001b[0m \u001b[1m8s\u001b[0m 1ms/step - loss: nan - val_loss: nan\n",
      "Epoch 17/20\n",
      "\u001b[1m6176/6176\u001b[0m \u001b[32m━━━━━━━━━━━━━━━━━━━━\u001b[0m\u001b[37m\u001b[0m \u001b[1m8s\u001b[0m 1ms/step - loss: nan - val_loss: nan\n",
      "Epoch 18/20\n",
      "\u001b[1m6176/6176\u001b[0m \u001b[32m━━━━━━━━━━━━━━━━━━━━\u001b[0m\u001b[37m\u001b[0m \u001b[1m8s\u001b[0m 1ms/step - loss: nan - val_loss: nan\n",
      "Epoch 19/20\n",
      "\u001b[1m6176/6176\u001b[0m \u001b[32m━━━━━━━━━━━━━━━━━━━━\u001b[0m\u001b[37m\u001b[0m \u001b[1m8s\u001b[0m 1ms/step - loss: nan - val_loss: nan\n",
      "Epoch 20/20\n",
      "\u001b[1m6176/6176\u001b[0m \u001b[32m━━━━━━━━━━━━━━━━━━━━\u001b[0m\u001b[37m\u001b[0m \u001b[1m8s\u001b[0m 1ms/step - loss: nan - val_loss: nan\n"
     ]
    }
   ],
   "source": [
    "mlp_temp = anomaly_detection.training_anomaly_model(X_train_scaled, y_train_temp, y_train_humidity, 'temperature')"
   ]
  },
  {
   "cell_type": "code",
   "execution_count": 16,
   "metadata": {},
   "outputs": [
    {
     "name": "stdout",
     "output_type": "stream",
     "text": [
      "Epoch 1/20\n"
     ]
    },
    {
     "name": "stderr",
     "output_type": "stream",
     "text": [
      "e:\\Final Desertation\\env\\Lib\\site-packages\\keras\\src\\layers\\core\\dense.py:87: UserWarning: Do not pass an `input_shape`/`input_dim` argument to a layer. When using Sequential models, prefer using an `Input(shape)` object as the first layer in the model instead.\n",
      "  super().__init__(activity_regularizer=activity_regularizer, **kwargs)\n"
     ]
    },
    {
     "name": "stdout",
     "output_type": "stream",
     "text": [
      "\u001b[1m6176/6176\u001b[0m \u001b[32m━━━━━━━━━━━━━━━━━━━━\u001b[0m\u001b[37m\u001b[0m \u001b[1m9s\u001b[0m 1ms/step - loss: nan - val_loss: nan\n",
      "Epoch 2/20\n",
      "\u001b[1m6176/6176\u001b[0m \u001b[32m━━━━━━━━━━━━━━━━━━━━\u001b[0m\u001b[37m\u001b[0m \u001b[1m8s\u001b[0m 1ms/step - loss: nan - val_loss: nan\n",
      "Epoch 3/20\n",
      "\u001b[1m6176/6176\u001b[0m \u001b[32m━━━━━━━━━━━━━━━━━━━━\u001b[0m\u001b[37m\u001b[0m \u001b[1m8s\u001b[0m 1ms/step - loss: nan - val_loss: nan\n",
      "Epoch 4/20\n",
      "\u001b[1m6176/6176\u001b[0m \u001b[32m━━━━━━━━━━━━━━━━━━━━\u001b[0m\u001b[37m\u001b[0m \u001b[1m8s\u001b[0m 1ms/step - loss: nan - val_loss: nan\n",
      "Epoch 5/20\n",
      "\u001b[1m6176/6176\u001b[0m \u001b[32m━━━━━━━━━━━━━━━━━━━━\u001b[0m\u001b[37m\u001b[0m \u001b[1m8s\u001b[0m 1ms/step - loss: nan - val_loss: nan\n",
      "Epoch 6/20\n",
      "\u001b[1m6176/6176\u001b[0m \u001b[32m━━━━━━━━━━━━━━━━━━━━\u001b[0m\u001b[37m\u001b[0m \u001b[1m8s\u001b[0m 1ms/step - loss: nan - val_loss: nan\n",
      "Epoch 7/20\n",
      "\u001b[1m6176/6176\u001b[0m \u001b[32m━━━━━━━━━━━━━━━━━━━━\u001b[0m\u001b[37m\u001b[0m \u001b[1m8s\u001b[0m 1ms/step - loss: nan - val_loss: nan\n",
      "Epoch 8/20\n",
      "\u001b[1m6176/6176\u001b[0m \u001b[32m━━━━━━━━━━━━━━━━━━━━\u001b[0m\u001b[37m\u001b[0m \u001b[1m8s\u001b[0m 1ms/step - loss: nan - val_loss: nan\n",
      "Epoch 9/20\n",
      "\u001b[1m6176/6176\u001b[0m \u001b[32m━━━━━━━━━━━━━━━━━━━━\u001b[0m\u001b[37m\u001b[0m \u001b[1m8s\u001b[0m 1ms/step - loss: nan - val_loss: nan\n",
      "Epoch 10/20\n",
      "\u001b[1m6176/6176\u001b[0m \u001b[32m━━━━━━━━━━━━━━━━━━━━\u001b[0m\u001b[37m\u001b[0m \u001b[1m8s\u001b[0m 1ms/step - loss: nan - val_loss: nan\n",
      "Epoch 11/20\n",
      "\u001b[1m6176/6176\u001b[0m \u001b[32m━━━━━━━━━━━━━━━━━━━━\u001b[0m\u001b[37m\u001b[0m \u001b[1m8s\u001b[0m 1ms/step - loss: nan - val_loss: nan\n",
      "Epoch 12/20\n",
      "\u001b[1m6176/6176\u001b[0m \u001b[32m━━━━━━━━━━━━━━━━━━━━\u001b[0m\u001b[37m\u001b[0m \u001b[1m7s\u001b[0m 1ms/step - loss: nan - val_loss: nan\n",
      "Epoch 13/20\n",
      "\u001b[1m6176/6176\u001b[0m \u001b[32m━━━━━━━━━━━━━━━━━━━━\u001b[0m\u001b[37m\u001b[0m \u001b[1m8s\u001b[0m 1ms/step - loss: nan - val_loss: nan\n",
      "Epoch 14/20\n",
      "\u001b[1m6176/6176\u001b[0m \u001b[32m━━━━━━━━━━━━━━━━━━━━\u001b[0m\u001b[37m\u001b[0m \u001b[1m7s\u001b[0m 1ms/step - loss: nan - val_loss: nan\n",
      "Epoch 15/20\n",
      "\u001b[1m6176/6176\u001b[0m \u001b[32m━━━━━━━━━━━━━━━━━━━━\u001b[0m\u001b[37m\u001b[0m \u001b[1m7s\u001b[0m 1ms/step - loss: nan - val_loss: nan\n",
      "Epoch 16/20\n",
      "\u001b[1m6176/6176\u001b[0m \u001b[32m━━━━━━━━━━━━━━━━━━━━\u001b[0m\u001b[37m\u001b[0m \u001b[1m7s\u001b[0m 1ms/step - loss: nan - val_loss: nan\n",
      "Epoch 17/20\n",
      "\u001b[1m6176/6176\u001b[0m \u001b[32m━━━━━━━━━━━━━━━━━━━━\u001b[0m\u001b[37m\u001b[0m \u001b[1m7s\u001b[0m 1ms/step - loss: nan - val_loss: nan\n",
      "Epoch 18/20\n",
      "\u001b[1m6176/6176\u001b[0m \u001b[32m━━━━━━━━━━━━━━━━━━━━\u001b[0m\u001b[37m\u001b[0m \u001b[1m7s\u001b[0m 1ms/step - loss: nan - val_loss: nan\n",
      "Epoch 19/20\n",
      "\u001b[1m6176/6176\u001b[0m \u001b[32m━━━━━━━━━━━━━━━━━━━━\u001b[0m\u001b[37m\u001b[0m \u001b[1m7s\u001b[0m 1ms/step - loss: nan - val_loss: nan\n",
      "Epoch 20/20\n",
      "\u001b[1m6176/6176\u001b[0m \u001b[32m━━━━━━━━━━━━━━━━━━━━\u001b[0m\u001b[37m\u001b[0m \u001b[1m7s\u001b[0m 1ms/step - loss: nan - val_loss: nan\n"
     ]
    }
   ],
   "source": [
    "mlp_humidity = anomaly_detection.training_anomaly_model(X_train_scaled, y_train_temp, y_train_humidity, 'humidity')"
   ]
  },
  {
   "cell_type": "code",
   "execution_count": 17,
   "metadata": {},
   "outputs": [],
   "source": [
    "anomalies = all_anomalies[(all_anomalies['Temperature_anomaly'] == 1) & (all_anomalies['Humidity_anomaly'] == 1)].copy()\n",
    "\n",
    "X_anomalies = anomalies[['Temperature', 'Humidity']]\n",
    "X_anomalies_scaled = scaler.transform(X_anomalies)\n",
    "\n",
    "anomalies.loc[anomalies['Temperature_anomaly'] == 1, 'Temperature'] = 0\n",
    "anomalies.loc[anomalies['Humidity_anomaly'] == 1, 'Humidity'] = 0"
   ]
  },
  {
   "cell_type": "code",
   "execution_count": 18,
   "metadata": {},
   "outputs": [
    {
     "name": "stdout",
     "output_type": "stream",
     "text": [
      "\u001b[1m66/66\u001b[0m \u001b[32m━━━━━━━━━━━━━━━━━━━━\u001b[0m\u001b[37m\u001b[0m \u001b[1m0s\u001b[0m 1ms/step\n",
      "\u001b[1m66/66\u001b[0m \u001b[32m━━━━━━━━━━━━━━━━━━━━\u001b[0m\u001b[37m\u001b[0m \u001b[1m0s\u001b[0m 1ms/step\n"
     ]
    }
   ],
   "source": [
    "anomalies['Temperature'] = np.round(mlp_temp.predict(X_anomalies_scaled), 2)\n",
    "anomalies['Humidity'] = np.round(mlp_humidity.predict(X_anomalies_scaled), 2)"
   ]
  },
  {
   "cell_type": "code",
   "execution_count": 19,
   "metadata": {},
   "outputs": [],
   "source": [
    "all_anomalies.update(anomalies[['Temperature', 'Humidity']])\n",
    "final_processed_data = all_anomalies.copy()\n",
    "\n",
    "# final_anomalies = final_processed_data[(final_processed_data['Temperature_anomaly'] == 1) & (final_processed_data['Humidity_anomaly'] == 1)]"
   ]
  },
  {
   "cell_type": "code",
   "execution_count": 22,
   "metadata": {},
   "outputs": [],
   "source": [
    "lastday = final_processed_data['Time'].max().date()\n",
    "last_day_records = final_processed_data[final_processed_data['Time'].dt.date == lastday]\n",
    "\n",
    "sensor_sample_data = combined_data[combined_data['Time'].dt.date == lastday]"
   ]
  },
  {
   "cell_type": "code",
   "execution_count": 24,
   "metadata": {},
   "outputs": [
    {
     "data": {
      "image/png": "[encoded data removed]",
      "text/plain": [
       "<Figure size 2000x600 with 2 Axes>"
      ]
     },
     "metadata": {},
     "output_type": "display_data"
    }
   ],
   "source": [
    "# Set style\n",
    "sns.set(style=\"darkgrid\")\n",
    "\n",
    "# Create a figure with 1 row and 2 columns\n",
    "fig, axs = plt.subplots(1, 2, figsize=(20, 6), sharey=True)\n",
    "\n",
    "# Original data\n",
    "sensor_data = sensor_sample_data[sensor_sample_data['Sensor ID'] == '04757']\n",
    "sns.lineplot(ax=axs[0], x='Time', y='Temperature', data=sensor_data, \n",
    "             marker='*', color='blue',\n",
    "             label='Actual Sensor 04757')\n",
    "\n",
    "# Filtered data\n",
    "filtered_sensor_data = last_day_records[last_day_records['Sensor ID'] == '04757']\n",
    "sns.lineplot(ax=axs[1], x='Time', y='Temperature', data=filtered_sensor_data, \n",
    "             marker='o', color='red',\n",
    "             linestyle='--', label='Anomaly Data of Sensor 04757')\n",
    "\n",
    "# Titles and labels\n",
    "axs[0].set_title('Actual Sensor Data')\n",
    "axs[1].set_title('Anomaly Sensor Data')\n",
    "\n",
    "for ax in axs:\n",
    "    ax.set_xlabel('Timestamp')\n",
    "    ax.set_ylabel('Temperature (°C)')\n",
    "    ax.legend()\n",
    "    ax.tick_params(axis='x', rotation=45)\n",
    "\n",
    "# Adjust layout and save the figure\n",
    "plt.tight_layout()\n",
    "plt.savefig('Compare/original_and_filtered_plots_side_by_side.png')\n",
    "plt.show()"
   ]
  }
 ],
 "metadata": {
  "kernelspec": {
   "display_name": "env",
   "language": "python",
   "name": "python3"
  },
  "language_info": {
   "codemirror_mode": {
    "name": "ipython",
    "version": 3
   },
   "file_extension": ".py",
   "mimetype": "text/x-python",
   "name": "python",
   "nbconvert_exporter": "python",
   "pygments_lexer": "ipython3",
   "version": "3.11.0"
  }
 },
 "nbformat": 4,
 "nbformat_minor": 2
}
