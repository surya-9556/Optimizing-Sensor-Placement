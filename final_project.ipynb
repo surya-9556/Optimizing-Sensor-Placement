{
 "cells": [
  {
   "cell_type": "markdown",
   "metadata": {},
   "source": [
    "### Importing libraries"
   ]
  },
  {
   "cell_type": "code",
   "execution_count": 1,
   "metadata": {},
   "outputs": [],
   "source": [
    "import os\n",
    "import numpy as np\n",
    "import pandas as pd\n",
    "import seaborn as sns\n",
    "import matplotlib.pyplot as plt\n",
    "\n",
    "from sklearn.preprocessing import StandardScaler\n",
    "from Functions import anoamly_detection\n",
    "from main import OptimizingPlacement"
   ]
  },
  {
   "cell_type": "code",
   "execution_count": 2,
   "metadata": {},
   "outputs": [],
   "source": [
    "placement = OptimizingPlacement()\n",
    "anomaly_detection = anoamly_detection.AnomalyDetection()"
   ]
  },
  {
   "cell_type": "code",
   "execution_count": 3,
   "metadata": {},
   "outputs": [],
   "source": [
    "file_name = os.getenv('file_name')\n",
    "sensor_data = os.getenv(\"folder_name\")\n",
    "zipped_file = os.getenv(\"ziped_file\")\n",
    "output_dir = os.getenv('sensor_heatmaps')\n",
    "video_output = os.getenv('temperature_output')"
   ]
  },
  {
   "cell_type": "code",
   "execution_count": 4,
   "metadata": {},
   "outputs": [],
   "source": [
    "combined_data, keys_list = placement.extracting_files(zipped_file, sensor_data)"
   ]
  },
  {
   "cell_type": "code",
   "execution_count": 5,
   "metadata": {},
   "outputs": [
    {
     "data": {
      "text/html": [
       "<div>\n",
       "<style scoped>\n",
       "    .dataframe tbody tr th:only-of-type {\n",
       "        vertical-align: middle;\n",
       "    }\n",
       "\n",
       "    .dataframe tbody tr th {\n",
       "        vertical-align: top;\n",
       "    }\n",
       "\n",
       "    .dataframe thead th {\n",
       "        text-align: right;\n",
       "    }\n",
       "</style>\n",
       "<table border=\"1\" class=\"dataframe\">\n",
       "  <thead>\n",
       "    <tr style=\"text-align: right;\">\n",
       "      <th></th>\n",
       "      <th>Time</th>\n",
       "      <th>Temperature</th>\n",
       "      <th>Humidity</th>\n",
       "      <th>Sensor ID</th>\n",
       "      <th>Sensor Name</th>\n",
       "    </tr>\n",
       "  </thead>\n",
       "  <tbody>\n",
       "    <tr>\n",
       "      <th>0</th>\n",
       "      <td>2024-05-14 02:18:22</td>\n",
       "      <td>15.25</td>\n",
       "      <td>92.8</td>\n",
       "      <td>047D6</td>\n",
       "      <td>047D6 T/RH IP67</td>\n",
       "    </tr>\n",
       "    <tr>\n",
       "      <th>1</th>\n",
       "      <td>2024-05-04 21:21:36</td>\n",
       "      <td>13.95</td>\n",
       "      <td>71</td>\n",
       "      <td>047D6</td>\n",
       "      <td>047D6 T/RH IP67</td>\n",
       "    </tr>\n",
       "    <tr>\n",
       "      <th>2</th>\n",
       "      <td>2024-05-04 21:26:37</td>\n",
       "      <td>13.65</td>\n",
       "      <td>71.8</td>\n",
       "      <td>047D6</td>\n",
       "      <td>047D6 T/RH IP67</td>\n",
       "    </tr>\n",
       "    <tr>\n",
       "      <th>3</th>\n",
       "      <td>2024-05-04 21:31:35</td>\n",
       "      <td>13.4</td>\n",
       "      <td>72.6</td>\n",
       "      <td>047D6</td>\n",
       "      <td>047D6 T/RH IP67</td>\n",
       "    </tr>\n",
       "    <tr>\n",
       "      <th>4</th>\n",
       "      <td>2024-05-04 21:36:36</td>\n",
       "      <td>13.4</td>\n",
       "      <td>73.4</td>\n",
       "      <td>047D6</td>\n",
       "      <td>047D6 T/RH IP67</td>\n",
       "    </tr>\n",
       "  </tbody>\n",
       "</table>\n",
       "</div>"
      ],
      "text/plain": [
       "                 Time Temperature Humidity Sensor ID      Sensor Name\n",
       "0 2024-05-14 02:18:22       15.25     92.8     047D6  047D6 T/RH IP67\n",
       "1 2024-05-04 21:21:36       13.95       71     047D6  047D6 T/RH IP67\n",
       "2 2024-05-04 21:26:37       13.65     71.8     047D6  047D6 T/RH IP67\n",
       "3 2024-05-04 21:31:35        13.4     72.6     047D6  047D6 T/RH IP67\n",
       "4 2024-05-04 21:36:36        13.4     73.4     047D6  047D6 T/RH IP67"
      ]
     },
     "execution_count": 5,
     "metadata": {},
     "output_type": "execute_result"
    }
   ],
   "source": [
    "combined_data.head()"
   ]
  },
  {
   "cell_type": "code",
   "execution_count": 6,
   "metadata": {},
   "outputs": [
    {
     "data": {
      "text/plain": [
       "'Successfully generated the heatmap video.'"
      ]
     },
     "execution_count": 6,
     "metadata": {},
     "output_type": "execute_result"
    }
   ],
   "source": [
    "placement.heatmap_video_gen(combined_data, output_dir, video_output)"
   ]
  },
  {
   "cell_type": "code",
   "execution_count": 7,
   "metadata": {},
   "outputs": [
    {
     "data": {
      "text/plain": [
       "Time              0\n",
       "Temperature    9351\n",
       "Humidity       9351\n",
       "Sensor ID         0\n",
       "Sensor Name       0\n",
       "dtype: int64"
      ]
     },
     "execution_count": 7,
     "metadata": {},
     "output_type": "execute_result"
    }
   ],
   "source": [
    "combined_data.isnull().sum()"
   ]
  },
  {
   "cell_type": "code",
   "execution_count": 8,
   "metadata": {},
   "outputs": [],
   "source": [
    "combined_data['Humidity'] = combined_data['Humidity'].astype('float')\n",
    "combined_data['Temperature'] = combined_data['Temperature'].astype('float')"
   ]
  },
  {
   "cell_type": "code",
   "execution_count": 9,
   "metadata": {},
   "outputs": [],
   "source": [
    "combined_data['Day'] = pd.DatetimeIndex(combined_data['Time']).day\n",
    "combined_data['Time_Instance'] = pd.DatetimeIndex(combined_data['Time']).time\n",
    "combined_data['Year'] = pd.DatetimeIndex(combined_data['Time']).year\n",
    "combined_data['Month'] = pd.DatetimeIndex(combined_data['Time']).month"
   ]
  },
  {
   "cell_type": "code",
   "execution_count": 10,
   "metadata": {},
   "outputs": [],
   "source": [
    "combined_data['flag'] = combined_data.isna().any(axis=1).astype(int)"
   ]
  },
  {
   "cell_type": "code",
   "execution_count": 11,
   "metadata": {},
   "outputs": [
    {
     "name": "stdout",
     "output_type": "stream",
     "text": [
      "Epoch 1/20\n",
      "\u001b[1m8008/8008\u001b[0m \u001b[32m━━━━━━━━━━━━━━━━━━━━\u001b[0m\u001b[37m\u001b[0m \u001b[1m9s\u001b[0m 1ms/step - loss: 7.8328 - val_loss: 5.1648\n",
      "Epoch 2/20\n",
      "\u001b[1m8008/8008\u001b[0m \u001b[32m━━━━━━━━━━━━━━━━━━━━\u001b[0m\u001b[37m\u001b[0m \u001b[1m9s\u001b[0m 1ms/step - loss: 5.4056 - val_loss: 6.2504\n",
      "Epoch 3/20\n",
      "\u001b[1m8008/8008\u001b[0m \u001b[32m━━━━━━━━━━━━━━━━━━━━\u001b[0m\u001b[37m\u001b[0m \u001b[1m9s\u001b[0m 1ms/step - loss: 5.0996 - val_loss: 4.9093\n",
      "Epoch 4/20\n",
      "\u001b[1m8008/8008\u001b[0m \u001b[32m━━━━━━━━━━━━━━━━━━━━\u001b[0m\u001b[37m\u001b[0m \u001b[1m8s\u001b[0m 978us/step - loss: 4.8818 - val_loss: 5.0185\n",
      "Epoch 5/20\n",
      "\u001b[1m8008/8008\u001b[0m \u001b[32m━━━━━━━━━━━━━━━━━━━━\u001b[0m\u001b[37m\u001b[0m \u001b[1m8s\u001b[0m 971us/step - loss: 4.9557 - val_loss: 4.8474\n",
      "Epoch 6/20\n",
      "\u001b[1m8008/8008\u001b[0m \u001b[32m━━━━━━━━━━━━━━━━━━━━\u001b[0m\u001b[37m\u001b[0m \u001b[1m8s\u001b[0m 992us/step - loss: 4.7675 - val_loss: 5.1997\n",
      "Epoch 7/20\n",
      "\u001b[1m8008/8008\u001b[0m \u001b[32m━━━━━━━━━━━━━━━━━━━━\u001b[0m\u001b[37m\u001b[0m \u001b[1m11s\u001b[0m 1ms/step - loss: 4.6751 - val_loss: 4.9760\n",
      "Epoch 8/20\n",
      "\u001b[1m8008/8008\u001b[0m \u001b[32m━━━━━━━━━━━━━━━━━━━━\u001b[0m\u001b[37m\u001b[0m \u001b[1m18s\u001b[0m 2ms/step - loss: 4.7106 - val_loss: 4.9191\n",
      "Epoch 9/20\n",
      "\u001b[1m8008/8008\u001b[0m \u001b[32m━━━━━━━━━━━━━━━━━━━━\u001b[0m\u001b[37m\u001b[0m \u001b[1m10s\u001b[0m 1ms/step - loss: 4.5863 - val_loss: 4.7779\n",
      "Epoch 10/20\n",
      "\u001b[1m8008/8008\u001b[0m \u001b[32m━━━━━━━━━━━━━━━━━━━━\u001b[0m\u001b[37m\u001b[0m \u001b[1m10s\u001b[0m 1ms/step - loss: 4.5922 - val_loss: 5.7712\n",
      "Epoch 11/20\n",
      "\u001b[1m8008/8008\u001b[0m \u001b[32m━━━━━━━━━━━━━━━━━━━━\u001b[0m\u001b[37m\u001b[0m \u001b[1m10s\u001b[0m 1ms/step - loss: 4.5486 - val_loss: 4.9315\n",
      "Epoch 12/20\n",
      "\u001b[1m8008/8008\u001b[0m \u001b[32m━━━━━━━━━━━━━━━━━━━━\u001b[0m\u001b[37m\u001b[0m \u001b[1m10s\u001b[0m 1ms/step - loss: 4.5029 - val_loss: 4.7961\n",
      "Epoch 13/20\n",
      "\u001b[1m8008/8008\u001b[0m \u001b[32m━━━━━━━━━━━━━━━━━━━━\u001b[0m\u001b[37m\u001b[0m \u001b[1m10s\u001b[0m 1ms/step - loss: 4.5550 - val_loss: 4.8566\n",
      "Epoch 14/20\n",
      "\u001b[1m8008/8008\u001b[0m \u001b[32m━━━━━━━━━━━━━━━━━━━━\u001b[0m\u001b[37m\u001b[0m \u001b[1m10s\u001b[0m 1ms/step - loss: 4.4410 - val_loss: 6.8613\n",
      "Epoch 15/20\n",
      "\u001b[1m8008/8008\u001b[0m \u001b[32m━━━━━━━━━━━━━━━━━━━━\u001b[0m\u001b[37m\u001b[0m \u001b[1m10s\u001b[0m 1ms/step - loss: 4.4390 - val_loss: 4.4940\n",
      "Epoch 16/20\n",
      "\u001b[1m8008/8008\u001b[0m \u001b[32m━━━━━━━━━━━━━━━━━━━━\u001b[0m\u001b[37m\u001b[0m \u001b[1m10s\u001b[0m 1ms/step - loss: 4.3208 - val_loss: 4.6624\n",
      "Epoch 17/20\n",
      "\u001b[1m8008/8008\u001b[0m \u001b[32m━━━━━━━━━━━━━━━━━━━━\u001b[0m\u001b[37m\u001b[0m \u001b[1m10s\u001b[0m 1ms/step - loss: 4.4877 - val_loss: 4.6183\n",
      "Epoch 18/20\n",
      "\u001b[1m8008/8008\u001b[0m \u001b[32m━━━━━━━━━━━━━━━━━━━━\u001b[0m\u001b[37m\u001b[0m \u001b[1m11s\u001b[0m 1ms/step - loss: 4.3428 - val_loss: 4.5562\n",
      "Epoch 19/20\n",
      "\u001b[1m8008/8008\u001b[0m \u001b[32m━━━━━━━━━━━━━━━━━━━━\u001b[0m\u001b[37m\u001b[0m \u001b[1m10s\u001b[0m 1ms/step - loss: 4.3238 - val_loss: 4.5114\n",
      "Epoch 20/20\n",
      "\u001b[1m8008/8008\u001b[0m \u001b[32m━━━━━━━━━━━━━━━━━━━━\u001b[0m\u001b[37m\u001b[0m \u001b[1m11s\u001b[0m 1ms/step - loss: 4.3275 - val_loss: 4.4869\n",
      "Epoch 1/20\n",
      "\u001b[1m8008/8008\u001b[0m \u001b[32m━━━━━━━━━━━━━━━━━━━━\u001b[0m\u001b[37m\u001b[0m \u001b[1m10s\u001b[0m 1ms/step - loss: 52.0910 - val_loss: 33.6236\n",
      "Epoch 2/20\n",
      "\u001b[1m8008/8008\u001b[0m \u001b[32m━━━━━━━━━━━━━━━━━━━━\u001b[0m\u001b[37m\u001b[0m \u001b[1m9s\u001b[0m 1ms/step - loss: 35.6571 - val_loss: 88.6945\n",
      "Epoch 3/20\n",
      "\u001b[1m8008/8008\u001b[0m \u001b[32m━━━━━━━━━━━━━━━━━━━━\u001b[0m\u001b[37m\u001b[0m \u001b[1m9s\u001b[0m 1ms/step - loss: 34.5059 - val_loss: 50.3679\n",
      "Epoch 4/20\n",
      "\u001b[1m8008/8008\u001b[0m \u001b[32m━━━━━━━━━━━━━━━━━━━━\u001b[0m\u001b[37m\u001b[0m \u001b[1m9s\u001b[0m 1ms/step - loss: 33.9647 - val_loss: 36.3623\n",
      "Epoch 5/20\n",
      "\u001b[1m8008/8008\u001b[0m \u001b[32m━━━━━━━━━━━━━━━━━━━━\u001b[0m\u001b[37m\u001b[0m \u001b[1m9s\u001b[0m 1ms/step - loss: 33.5968 - val_loss: 32.8907\n",
      "Epoch 6/20\n",
      "\u001b[1m8008/8008\u001b[0m \u001b[32m━━━━━━━━━━━━━━━━━━━━\u001b[0m\u001b[37m\u001b[0m \u001b[1m10s\u001b[0m 1ms/step - loss: 33.1120 - val_loss: 33.4422\n",
      "Epoch 7/20\n",
      "\u001b[1m8008/8008\u001b[0m \u001b[32m━━━━━━━━━━━━━━━━━━━━\u001b[0m\u001b[37m\u001b[0m \u001b[1m9s\u001b[0m 1ms/step - loss: 32.7041 - val_loss: 35.8649\n",
      "Epoch 8/20\n",
      "\u001b[1m8008/8008\u001b[0m \u001b[32m━━━━━━━━━━━━━━━━━━━━\u001b[0m\u001b[37m\u001b[0m \u001b[1m12s\u001b[0m 1ms/step - loss: 32.8904 - val_loss: 33.6987\n",
      "Epoch 9/20\n",
      "\u001b[1m8008/8008\u001b[0m \u001b[32m━━━━━━━━━━━━━━━━━━━━\u001b[0m\u001b[37m\u001b[0m \u001b[1m11s\u001b[0m 1ms/step - loss: 32.3453 - val_loss: 34.8707\n",
      "Epoch 10/20\n",
      "\u001b[1m8008/8008\u001b[0m \u001b[32m━━━━━━━━━━━━━━━━━━━━\u001b[0m\u001b[37m\u001b[0m \u001b[1m10s\u001b[0m 1ms/step - loss: 31.9638 - val_loss: 33.0265\n",
      "Epoch 11/20\n",
      "\u001b[1m8008/8008\u001b[0m \u001b[32m━━━━━━━━━━━━━━━━━━━━\u001b[0m\u001b[37m\u001b[0m \u001b[1m11s\u001b[0m 1ms/step - loss: 31.9731 - val_loss: 53.0139\n",
      "Epoch 12/20\n",
      "\u001b[1m8008/8008\u001b[0m \u001b[32m━━━━━━━━━━━━━━━━━━━━\u001b[0m\u001b[37m\u001b[0m \u001b[1m11s\u001b[0m 1ms/step - loss: 32.5572 - val_loss: 33.5508\n",
      "Epoch 13/20\n",
      "\u001b[1m8008/8008\u001b[0m \u001b[32m━━━━━━━━━━━━━━━━━━━━\u001b[0m\u001b[37m\u001b[0m \u001b[1m10s\u001b[0m 1ms/step - loss: 31.8383 - val_loss: 32.7697\n",
      "Epoch 14/20\n",
      "\u001b[1m8008/8008\u001b[0m \u001b[32m━━━━━━━━━━━━━━━━━━━━\u001b[0m\u001b[37m\u001b[0m \u001b[1m10s\u001b[0m 1ms/step - loss: 31.9509 - val_loss: 33.0400\n",
      "Epoch 15/20\n",
      "\u001b[1m8008/8008\u001b[0m \u001b[32m━━━━━━━━━━━━━━━━━━━━\u001b[0m\u001b[37m\u001b[0m \u001b[1m10s\u001b[0m 1ms/step - loss: 31.0785 - val_loss: 34.1208\n",
      "Epoch 16/20\n",
      "\u001b[1m8008/8008\u001b[0m \u001b[32m━━━━━━━━━━━━━━━━━━━━\u001b[0m\u001b[37m\u001b[0m \u001b[1m9s\u001b[0m 1ms/step - loss: 31.5810 - val_loss: 31.8741\n",
      "Epoch 17/20\n",
      "\u001b[1m8008/8008\u001b[0m \u001b[32m━━━━━━━━━━━━━━━━━━━━\u001b[0m\u001b[37m\u001b[0m \u001b[1m9s\u001b[0m 1ms/step - loss: 31.0874 - val_loss: 32.1782\n",
      "Epoch 18/20\n",
      "\u001b[1m8008/8008\u001b[0m \u001b[32m━━━━━━━━━━━━━━━━━━━━\u001b[0m\u001b[37m\u001b[0m \u001b[1m9s\u001b[0m 1ms/step - loss: 31.4889 - val_loss: 33.3040\n",
      "Epoch 19/20\n",
      "\u001b[1m8008/8008\u001b[0m \u001b[32m━━━━━━━━━━━━━━━━━━━━\u001b[0m\u001b[37m\u001b[0m \u001b[1m9s\u001b[0m 1ms/step - loss: 31.2181 - val_loss: 32.5256\n",
      "Epoch 20/20\n",
      "\u001b[1m8008/8008\u001b[0m \u001b[32m━━━━━━━━━━━━━━━━━━━━\u001b[0m\u001b[37m\u001b[0m \u001b[1m9s\u001b[0m 1ms/step - loss: 30.9406 - val_loss: 57.4300\n"
     ]
    }
   ],
   "source": [
    "final_dataset = placement.replacing_missing_values(combined_data)"
   ]
  },
  {
   "cell_type": "code",
   "execution_count": 12,
   "metadata": {},
   "outputs": [
    {
     "data": {
      "text/html": [
       "<div>\n",
       "<style scoped>\n",
       "    .dataframe tbody tr th:only-of-type {\n",
       "        vertical-align: middle;\n",
       "    }\n",
       "\n",
       "    .dataframe tbody tr th {\n",
       "        vertical-align: top;\n",
       "    }\n",
       "\n",
       "    .dataframe thead th {\n",
       "        text-align: right;\n",
       "    }\n",
       "</style>\n",
       "<table border=\"1\" class=\"dataframe\">\n",
       "  <thead>\n",
       "    <tr style=\"text-align: right;\">\n",
       "      <th></th>\n",
       "      <th>Time</th>\n",
       "      <th>Temperature</th>\n",
       "      <th>Humidity</th>\n",
       "      <th>Sensor ID</th>\n",
       "      <th>Sensor Name</th>\n",
       "      <th>Day</th>\n",
       "      <th>Time_Instance</th>\n",
       "      <th>Year</th>\n",
       "      <th>Month</th>\n",
       "      <th>flag</th>\n",
       "    </tr>\n",
       "  </thead>\n",
       "  <tbody>\n",
       "    <tr>\n",
       "      <th>358</th>\n",
       "      <td>2024-05-05 05:01:20</td>\n",
       "      <td>9.37</td>\n",
       "      <td>90.09</td>\n",
       "      <td>047D6</td>\n",
       "      <td>047D6 T/RH IP67</td>\n",
       "      <td>5</td>\n",
       "      <td>05:01:20</td>\n",
       "      <td>2024</td>\n",
       "      <td>5</td>\n",
       "      <td>1</td>\n",
       "    </tr>\n",
       "    <tr>\n",
       "      <th>851</th>\n",
       "      <td>2024-05-20 08:31:34</td>\n",
       "      <td>13.99</td>\n",
       "      <td>89.56</td>\n",
       "      <td>047D6</td>\n",
       "      <td>047D6 T/RH IP67</td>\n",
       "      <td>20</td>\n",
       "      <td>08:31:34</td>\n",
       "      <td>2024</td>\n",
       "      <td>5</td>\n",
       "      <td>1</td>\n",
       "    </tr>\n",
       "    <tr>\n",
       "      <th>987</th>\n",
       "      <td>2024-05-07 09:29:43</td>\n",
       "      <td>22.08</td>\n",
       "      <td>65.08</td>\n",
       "      <td>047D6</td>\n",
       "      <td>047D6 T/RH IP67</td>\n",
       "      <td>7</td>\n",
       "      <td>09:29:43</td>\n",
       "      <td>2024</td>\n",
       "      <td>5</td>\n",
       "      <td>1</td>\n",
       "    </tr>\n",
       "    <tr>\n",
       "      <th>1001</th>\n",
       "      <td>2024-05-07 10:39:40</td>\n",
       "      <td>25.30</td>\n",
       "      <td>56.13</td>\n",
       "      <td>047D6</td>\n",
       "      <td>047D6 T/RH IP67</td>\n",
       "      <td>7</td>\n",
       "      <td>10:39:40</td>\n",
       "      <td>2024</td>\n",
       "      <td>5</td>\n",
       "      <td>1</td>\n",
       "    </tr>\n",
       "    <tr>\n",
       "      <th>1038</th>\n",
       "      <td>2024-05-20 15:01:20</td>\n",
       "      <td>30.21</td>\n",
       "      <td>48.43</td>\n",
       "      <td>047D6</td>\n",
       "      <td>047D6 T/RH IP67</td>\n",
       "      <td>20</td>\n",
       "      <td>15:01:20</td>\n",
       "      <td>2024</td>\n",
       "      <td>5</td>\n",
       "      <td>1</td>\n",
       "    </tr>\n",
       "  </tbody>\n",
       "</table>\n",
       "</div>"
      ],
      "text/plain": [
       "                    Time  Temperature  Humidity Sensor ID      Sensor Name  \\\n",
       "358  2024-05-05 05:01:20         9.37     90.09     047D6  047D6 T/RH IP67   \n",
       "851  2024-05-20 08:31:34        13.99     89.56     047D6  047D6 T/RH IP67   \n",
       "987  2024-05-07 09:29:43        22.08     65.08     047D6  047D6 T/RH IP67   \n",
       "1001 2024-05-07 10:39:40        25.30     56.13     047D6  047D6 T/RH IP67   \n",
       "1038 2024-05-20 15:01:20        30.21     48.43     047D6  047D6 T/RH IP67   \n",
       "\n",
       "      Day Time_Instance  Year  Month  flag  \n",
       "358     5      05:01:20  2024      5     1  \n",
       "851    20      08:31:34  2024      5     1  \n",
       "987     7      09:29:43  2024      5     1  \n",
       "1001    7      10:39:40  2024      5     1  \n",
       "1038   20      15:01:20  2024      5     1  "
      ]
     },
     "execution_count": 12,
     "metadata": {},
     "output_type": "execute_result"
    }
   ],
   "source": [
    "final_dataset[final_dataset['flag'] == 1].head()"
   ]
  },
  {
   "cell_type": "code",
   "execution_count": 13,
   "metadata": {},
   "outputs": [],
   "source": [
    "anomalies_list = []\n",
    "temperature_color = 'green'\n",
    "humidity_color = 'blue'\n",
    "\n",
    "for sensor_id, sensor_data in final_dataset.groupby('Sensor ID'):\n",
    "    sensor_anomalies = anomaly_detection.detect_anomalies(sensor_data, sensor_id, temperature_color, humidity_color)\n",
    "    anomalies_list.append(sensor_anomalies)\n",
    "\n",
    "all_anomalies = pd.concat(anomalies_list)"
   ]
  },
  {
   "cell_type": "code",
   "execution_count": 14,
   "metadata": {},
   "outputs": [],
   "source": [
    "non_anomalous_data = all_anomalies[(all_anomalies['Temperature_anomaly'] == 0) & (all_anomalies['Humidity_anomaly'] == 0)]\n",
    "\n",
    "X_train = non_anomalous_data[['Temperature', 'Humidity']]\n",
    "y_train_temp = non_anomalous_data['Temperature']\n",
    "y_train_humidity = non_anomalous_data['Humidity']\n",
    "\n",
    "scaler = StandardScaler()\n",
    "X_train_scaled = scaler.fit_transform(X_train)"
   ]
  },
  {
   "cell_type": "code",
   "execution_count": 15,
   "metadata": {},
   "outputs": [
    {
     "name": "stdout",
     "output_type": "stream",
     "text": [
      "Epoch 1/20\n",
      "\u001b[1m6143/6143\u001b[0m \u001b[32m━━━━━━━━━━━━━━━━━━━━\u001b[0m\u001b[37m\u001b[0m \u001b[1m8s\u001b[0m 1ms/step - loss: 14.6572 - val_loss: 0.0037\n",
      "Epoch 2/20\n",
      "\u001b[1m6143/6143\u001b[0m \u001b[32m━━━━━━━━━━━━━━━━━━━━\u001b[0m\u001b[37m\u001b[0m \u001b[1m6s\u001b[0m 1ms/step - loss: 0.0215 - val_loss: 7.6791e-05\n",
      "Epoch 3/20\n",
      "\u001b[1m6143/6143\u001b[0m \u001b[32m━━━━━━━━━━━━━━━━━━━━\u001b[0m\u001b[37m\u001b[0m \u001b[1m6s\u001b[0m 1ms/step - loss: 0.0044 - val_loss: 3.4292e-05\n",
      "Epoch 4/20\n",
      "\u001b[1m6143/6143\u001b[0m \u001b[32m━━━━━━━━━━━━━━━━━━━━\u001b[0m\u001b[37m\u001b[0m \u001b[1m7s\u001b[0m 1ms/step - loss: 0.0056 - val_loss: 2.3593e-05\n",
      "Epoch 5/20\n",
      "\u001b[1m6143/6143\u001b[0m \u001b[32m━━━━━━━━━━━━━━━━━━━━\u001b[0m\u001b[37m\u001b[0m \u001b[1m6s\u001b[0m 1ms/step - loss: 0.0030 - val_loss: 5.5088e-04\n",
      "Epoch 6/20\n",
      "\u001b[1m6143/6143\u001b[0m \u001b[32m━━━━━━━━━━━━━━━━━━━━\u001b[0m\u001b[37m\u001b[0m \u001b[1m6s\u001b[0m 980us/step - loss: 0.0057 - val_loss: 1.3651e-04\n",
      "Epoch 7/20\n",
      "\u001b[1m6143/6143\u001b[0m \u001b[32m━━━━━━━━━━━━━━━━━━━━\u001b[0m\u001b[37m\u001b[0m \u001b[1m7s\u001b[0m 1ms/step - loss: 0.0026 - val_loss: 0.0039\n",
      "Epoch 8/20\n",
      "\u001b[1m6143/6143\u001b[0m \u001b[32m━━━━━━━━━━━━━━━━━━━━\u001b[0m\u001b[37m\u001b[0m \u001b[1m6s\u001b[0m 1ms/step - loss: 0.0013 - val_loss: 2.7138e-04\n",
      "Epoch 9/20\n",
      "\u001b[1m6143/6143\u001b[0m \u001b[32m━━━━━━━━━━━━━━━━━━━━\u001b[0m\u001b[37m\u001b[0m \u001b[1m6s\u001b[0m 983us/step - loss: 0.0015 - val_loss: 5.9350e-05\n",
      "Epoch 10/20\n",
      "\u001b[1m6143/6143\u001b[0m \u001b[32m━━━━━━━━━━━━━━━━━━━━\u001b[0m\u001b[37m\u001b[0m \u001b[1m6s\u001b[0m 957us/step - loss: 0.0013 - val_loss: 9.7439e-06\n",
      "Epoch 11/20\n",
      "\u001b[1m6143/6143\u001b[0m \u001b[32m━━━━━━━━━━━━━━━━━━━━\u001b[0m\u001b[37m\u001b[0m \u001b[1m6s\u001b[0m 973us/step - loss: 7.0787e-04 - val_loss: 6.0300e-06\n",
      "Epoch 12/20\n",
      "\u001b[1m6143/6143\u001b[0m \u001b[32m━━━━━━━━━━━━━━━━━━━━\u001b[0m\u001b[37m\u001b[0m \u001b[1m6s\u001b[0m 927us/step - loss: 0.0010 - val_loss: 5.6349e-06\n",
      "Epoch 13/20\n",
      "\u001b[1m6143/6143\u001b[0m \u001b[32m━━━━━━━━━━━━━━━━━━━━\u001b[0m\u001b[37m\u001b[0m \u001b[1m6s\u001b[0m 950us/step - loss: 0.0010 - val_loss: 1.2124e-04\n",
      "Epoch 14/20\n",
      "\u001b[1m6143/6143\u001b[0m \u001b[32m━━━━━━━━━━━━━━━━━━━━\u001b[0m\u001b[37m\u001b[0m \u001b[1m6s\u001b[0m 946us/step - loss: 4.0350e-04 - val_loss: 5.3146e-06\n",
      "Epoch 15/20\n",
      "\u001b[1m6143/6143\u001b[0m \u001b[32m━━━━━━━━━━━━━━━━━━━━\u001b[0m\u001b[37m\u001b[0m \u001b[1m6s\u001b[0m 921us/step - loss: 0.0043 - val_loss: 4.9770e-06\n",
      "Epoch 16/20\n",
      "\u001b[1m6143/6143\u001b[0m \u001b[32m━━━━━━━━━━━━━━━━━━━━\u001b[0m\u001b[37m\u001b[0m \u001b[1m6s\u001b[0m 956us/step - loss: 7.3321e-04 - val_loss: 5.2196e-06\n",
      "Epoch 17/20\n",
      "\u001b[1m6143/6143\u001b[0m \u001b[32m━━━━━━━━━━━━━━━━━━━━\u001b[0m\u001b[37m\u001b[0m \u001b[1m6s\u001b[0m 903us/step - loss: 9.5631e-04 - val_loss: 5.8232e-06\n",
      "Epoch 18/20\n",
      "\u001b[1m6143/6143\u001b[0m \u001b[32m━━━━━━━━━━━━━━━━━━━━\u001b[0m\u001b[37m\u001b[0m \u001b[1m6s\u001b[0m 1ms/step - loss: 7.8945e-04 - val_loss: 0.0021\n",
      "Epoch 19/20\n",
      "\u001b[1m6143/6143\u001b[0m \u001b[32m━━━━━━━━━━━━━━━━━━━━\u001b[0m\u001b[37m\u001b[0m \u001b[1m6s\u001b[0m 971us/step - loss: 9.8820e-04 - val_loss: 0.0018\n",
      "Epoch 20/20\n",
      "\u001b[1m6143/6143\u001b[0m \u001b[32m━━━━━━━━━━━━━━━━━━━━\u001b[0m\u001b[37m\u001b[0m \u001b[1m6s\u001b[0m 955us/step - loss: 0.0011 - val_loss: 5.0663e-06\n"
     ]
    }
   ],
   "source": [
    "mlp_temp = anomaly_detection.training_anomaly_model(X_train_scaled, y_train_temp, '', 'temperature')"
   ]
  },
  {
   "cell_type": "code",
   "execution_count": 16,
   "metadata": {},
   "outputs": [
    {
     "name": "stdout",
     "output_type": "stream",
     "text": [
      "Epoch 1/20\n",
      "\u001b[1m6143/6143\u001b[0m \u001b[32m━━━━━━━━━━━━━━━━━━━━\u001b[0m\u001b[37m\u001b[0m \u001b[1m7s\u001b[0m 990us/step - loss: 242.1751 - val_loss: 28.8502\n",
      "Epoch 2/20\n",
      "\u001b[1m6143/6143\u001b[0m \u001b[32m━━━━━━━━━━━━━━━━━━━━\u001b[0m\u001b[37m\u001b[0m \u001b[1m6s\u001b[0m 900us/step - loss: 1.0638 - val_loss: 7.7733e-04\n",
      "Epoch 3/20\n",
      "\u001b[1m6143/6143\u001b[0m \u001b[32m━━━━━━━━━━━━━━━━━━━━\u001b[0m\u001b[37m\u001b[0m \u001b[1m7s\u001b[0m 1ms/step - loss: 0.1079 - val_loss: 0.0019\n",
      "Epoch 4/20\n",
      "\u001b[1m6143/6143\u001b[0m \u001b[32m━━━━━━━━━━━━━━━━━━━━\u001b[0m\u001b[37m\u001b[0m \u001b[1m6s\u001b[0m 1ms/step - loss: 0.0282 - val_loss: 1.7956e-04\n",
      "Epoch 5/20\n",
      "\u001b[1m6143/6143\u001b[0m \u001b[32m━━━━━━━━━━━━━━━━━━━━\u001b[0m\u001b[37m\u001b[0m \u001b[1m6s\u001b[0m 1ms/step - loss: 0.0964 - val_loss: 1.5402e-04\n",
      "Epoch 6/20\n",
      "\u001b[1m6143/6143\u001b[0m \u001b[32m━━━━━━━━━━━━━━━━━━━━\u001b[0m\u001b[37m\u001b[0m \u001b[1m7s\u001b[0m 1ms/step - loss: 0.1623 - val_loss: 2.6642e-04\n",
      "Epoch 7/20\n",
      "\u001b[1m6143/6143\u001b[0m \u001b[32m━━━━━━━━━━━━━━━━━━━━\u001b[0m\u001b[37m\u001b[0m \u001b[1m6s\u001b[0m 961us/step - loss: 0.0329 - val_loss: 1.2727e-04\n",
      "Epoch 8/20\n",
      "\u001b[1m6143/6143\u001b[0m \u001b[32m━━━━━━━━━━━━━━━━━━━━\u001b[0m\u001b[37m\u001b[0m \u001b[1m6s\u001b[0m 944us/step - loss: 0.0298 - val_loss: 2.5504e-05\n",
      "Epoch 9/20\n",
      "\u001b[1m6143/6143\u001b[0m \u001b[32m━━━━━━━━━━━━━━━━━━━━\u001b[0m\u001b[37m\u001b[0m \u001b[1m6s\u001b[0m 1ms/step - loss: 0.0419 - val_loss: 2.4257e-05\n",
      "Epoch 10/20\n",
      "\u001b[1m6143/6143\u001b[0m \u001b[32m━━━━━━━━━━━━━━━━━━━━\u001b[0m\u001b[37m\u001b[0m \u001b[1m7s\u001b[0m 1ms/step - loss: 0.0515 - val_loss: 0.0146\n",
      "Epoch 11/20\n",
      "\u001b[1m6143/6143\u001b[0m \u001b[32m━━━━━━━━━━━━━━━━━━━━\u001b[0m\u001b[37m\u001b[0m \u001b[1m6s\u001b[0m 1ms/step - loss: 0.0772 - val_loss: 1.4475e-05\n",
      "Epoch 12/20\n",
      "\u001b[1m6143/6143\u001b[0m \u001b[32m━━━━━━━━━━━━━━━━━━━━\u001b[0m\u001b[37m\u001b[0m \u001b[1m7s\u001b[0m 1ms/step - loss: 0.0745 - val_loss: 7.4597e-06\n",
      "Epoch 13/20\n",
      "\u001b[1m6143/6143\u001b[0m \u001b[32m━━━━━━━━━━━━━━━━━━━━\u001b[0m\u001b[37m\u001b[0m \u001b[1m6s\u001b[0m 1ms/step - loss: 0.0740 - val_loss: 1.1137e-05\n",
      "Epoch 14/20\n",
      "\u001b[1m6143/6143\u001b[0m \u001b[32m━━━━━━━━━━━━━━━━━━━━\u001b[0m\u001b[37m\u001b[0m \u001b[1m6s\u001b[0m 1ms/step - loss: 0.0565 - val_loss: 8.6313e-04\n",
      "Epoch 15/20\n",
      "\u001b[1m6143/6143\u001b[0m \u001b[32m━━━━━━━━━━━━━━━━━━━━\u001b[0m\u001b[37m\u001b[0m \u001b[1m6s\u001b[0m 1ms/step - loss: 0.0989 - val_loss: 3.4291e-05\n",
      "Epoch 16/20\n",
      "\u001b[1m6143/6143\u001b[0m \u001b[32m━━━━━━━━━━━━━━━━━━━━\u001b[0m\u001b[37m\u001b[0m \u001b[1m6s\u001b[0m 1ms/step - loss: 0.1142 - val_loss: 0.0109\n",
      "Epoch 17/20\n",
      "\u001b[1m6143/6143\u001b[0m \u001b[32m━━━━━━━━━━━━━━━━━━━━\u001b[0m\u001b[37m\u001b[0m \u001b[1m6s\u001b[0m 1ms/step - loss: 0.0850 - val_loss: 2.3680e-05\n",
      "Epoch 18/20\n",
      "\u001b[1m6143/6143\u001b[0m \u001b[32m━━━━━━━━━━━━━━━━━━━━\u001b[0m\u001b[37m\u001b[0m \u001b[1m6s\u001b[0m 1ms/step - loss: 0.0259 - val_loss: 0.0012\n",
      "Epoch 19/20\n",
      "\u001b[1m6143/6143\u001b[0m \u001b[32m━━━━━━━━━━━━━━━━━━━━\u001b[0m\u001b[37m\u001b[0m \u001b[1m6s\u001b[0m 989us/step - loss: 0.0511 - val_loss: 1.1603e-05\n",
      "Epoch 20/20\n",
      "\u001b[1m6143/6143\u001b[0m \u001b[32m━━━━━━━━━━━━━━━━━━━━\u001b[0m\u001b[37m\u001b[0m \u001b[1m6s\u001b[0m 1ms/step - loss: 0.0915 - val_loss: 3.2967e-06\n"
     ]
    }
   ],
   "source": [
    "mlp_humidity = anomaly_detection.training_anomaly_model(X_train_scaled, '', y_train_humidity, 'humidity')"
   ]
  },
  {
   "cell_type": "code",
   "execution_count": 17,
   "metadata": {},
   "outputs": [],
   "source": [
    "anomalies = all_anomalies[(all_anomalies['Temperature_anomaly'] == 1) & (all_anomalies['Humidity_anomaly'] == 1)].copy()\n",
    "\n",
    "X_anomalies = anomalies[['Temperature', 'Humidity']]\n",
    "X_anomalies_scaled = scaler.transform(X_anomalies)\n",
    "\n",
    "anomalies.loc[anomalies['Temperature_anomaly'] == 1, 'Temperature'] = 0\n",
    "anomalies.loc[anomalies['Humidity_anomaly'] == 1, 'Humidity'] = 0"
   ]
  },
  {
   "cell_type": "code",
   "execution_count": 18,
   "metadata": {},
   "outputs": [
    {
     "name": "stdout",
     "output_type": "stream",
     "text": [
      "\u001b[1m51/51\u001b[0m \u001b[32m━━━━━━━━━━━━━━━━━━━━\u001b[0m\u001b[37m\u001b[0m \u001b[1m0s\u001b[0m 1ms/step\n",
      "\u001b[1m51/51\u001b[0m \u001b[32m━━━━━━━━━━━━━━━━━━━━\u001b[0m\u001b[37m\u001b[0m \u001b[1m0s\u001b[0m 1ms/step\n"
     ]
    }
   ],
   "source": [
    "anomalies['Temperature'] = np.round(mlp_temp.predict(X_anomalies_scaled), 2)\n",
    "anomalies['Humidity'] = np.round(mlp_humidity.predict(X_anomalies_scaled), 2)"
   ]
  },
  {
   "cell_type": "code",
   "execution_count": 19,
   "metadata": {},
   "outputs": [],
   "source": [
    "all_anomalies.update(anomalies[['Temperature', 'Humidity']])\n",
    "final_processed_data = all_anomalies.copy()\n",
    "\n",
    "# final_anomalies = final_processed_data[(final_processed_data['Temperature_anomaly'] == 1) & (final_processed_data['Humidity_anomaly'] == 1)]"
   ]
  },
  {
   "cell_type": "code",
   "execution_count": 20,
   "metadata": {},
   "outputs": [
    {
     "data": {
      "text/html": [
       "<div>\n",
       "<style scoped>\n",
       "    .dataframe tbody tr th:only-of-type {\n",
       "        vertical-align: middle;\n",
       "    }\n",
       "\n",
       "    .dataframe tbody tr th {\n",
       "        vertical-align: top;\n",
       "    }\n",
       "\n",
       "    .dataframe thead th {\n",
       "        text-align: right;\n",
       "    }\n",
       "</style>\n",
       "<table border=\"1\" class=\"dataframe\">\n",
       "  <thead>\n",
       "    <tr style=\"text-align: right;\">\n",
       "      <th></th>\n",
       "      <th>Time</th>\n",
       "      <th>Temperature</th>\n",
       "      <th>Humidity</th>\n",
       "      <th>Sensor ID</th>\n",
       "      <th>Sensor Name</th>\n",
       "      <th>Day</th>\n",
       "      <th>Time_Instance</th>\n",
       "      <th>Year</th>\n",
       "      <th>Month</th>\n",
       "      <th>flag</th>\n",
       "      <th>Temperature_anomaly</th>\n",
       "      <th>Humidity_anomaly</th>\n",
       "    </tr>\n",
       "  </thead>\n",
       "  <tbody>\n",
       "    <tr>\n",
       "      <th>75823</th>\n",
       "      <td>2024-05-20 12:18:36</td>\n",
       "      <td>33.849998</td>\n",
       "      <td>31.100000</td>\n",
       "      <td>0474D</td>\n",
       "      <td>0474D T/RH IP67</td>\n",
       "      <td>20</td>\n",
       "      <td>12:18:36</td>\n",
       "      <td>2024</td>\n",
       "      <td>5</td>\n",
       "      <td>0</td>\n",
       "      <td>1</td>\n",
       "      <td>1</td>\n",
       "    </tr>\n",
       "    <tr>\n",
       "      <th>75873</th>\n",
       "      <td>2024-05-20 13:18:34</td>\n",
       "      <td>33.900002</td>\n",
       "      <td>29.219999</td>\n",
       "      <td>0474D</td>\n",
       "      <td>0474D T/RH IP67</td>\n",
       "      <td>20</td>\n",
       "      <td>13:18:34</td>\n",
       "      <td>2024</td>\n",
       "      <td>5</td>\n",
       "      <td>0</td>\n",
       "      <td>1</td>\n",
       "      <td>1</td>\n",
       "    </tr>\n",
       "    <tr>\n",
       "      <th>75877</th>\n",
       "      <td>2024-05-20 13:38:33</td>\n",
       "      <td>32.599998</td>\n",
       "      <td>28.450001</td>\n",
       "      <td>0474D</td>\n",
       "      <td>0474D T/RH IP67</td>\n",
       "      <td>20</td>\n",
       "      <td>13:38:33</td>\n",
       "      <td>2024</td>\n",
       "      <td>5</td>\n",
       "      <td>0</td>\n",
       "      <td>1</td>\n",
       "      <td>1</td>\n",
       "    </tr>\n",
       "    <tr>\n",
       "      <th>232588</th>\n",
       "      <td>2024-04-30 12:18:06</td>\n",
       "      <td>31.549999</td>\n",
       "      <td>34.000000</td>\n",
       "      <td>04750</td>\n",
       "      <td>04750 T/RH IP67</td>\n",
       "      <td>30</td>\n",
       "      <td>12:18:06</td>\n",
       "      <td>2024</td>\n",
       "      <td>4</td>\n",
       "      <td>0</td>\n",
       "      <td>1</td>\n",
       "      <td>1</td>\n",
       "    </tr>\n",
       "    <tr>\n",
       "      <th>232590</th>\n",
       "      <td>2024-04-30 12:28:04</td>\n",
       "      <td>31.600000</td>\n",
       "      <td>34.299999</td>\n",
       "      <td>04750</td>\n",
       "      <td>04750 T/RH IP67</td>\n",
       "      <td>30</td>\n",
       "      <td>12:28:04</td>\n",
       "      <td>2024</td>\n",
       "      <td>4</td>\n",
       "      <td>0</td>\n",
       "      <td>1</td>\n",
       "      <td>1</td>\n",
       "    </tr>\n",
       "  </tbody>\n",
       "</table>\n",
       "</div>"
      ],
      "text/plain": [
       "                      Time  Temperature   Humidity Sensor ID      Sensor Name  \\\n",
       "75823  2024-05-20 12:18:36    33.849998  31.100000     0474D  0474D T/RH IP67   \n",
       "75873  2024-05-20 13:18:34    33.900002  29.219999     0474D  0474D T/RH IP67   \n",
       "75877  2024-05-20 13:38:33    32.599998  28.450001     0474D  0474D T/RH IP67   \n",
       "232588 2024-04-30 12:18:06    31.549999  34.000000     04750  04750 T/RH IP67   \n",
       "232590 2024-04-30 12:28:04    31.600000  34.299999     04750  04750 T/RH IP67   \n",
       "\n",
       "        Day Time_Instance  Year  Month  flag  Temperature_anomaly  \\\n",
       "75823    20      12:18:36  2024      5     0                    1   \n",
       "75873    20      13:18:34  2024      5     0                    1   \n",
       "75877    20      13:38:33  2024      5     0                    1   \n",
       "232588   30      12:18:06  2024      4     0                    1   \n",
       "232590   30      12:28:04  2024      4     0                    1   \n",
       "\n",
       "        Humidity_anomaly  \n",
       "75823                  1  \n",
       "75873                  1  \n",
       "75877                  1  \n",
       "232588                 1  \n",
       "232590                 1  "
      ]
     },
     "execution_count": 20,
     "metadata": {},
     "output_type": "execute_result"
    }
   ],
   "source": [
    "final_processed_data[(final_processed_data['Temperature_anomaly'] == 1) & (final_processed_data['Humidity_anomaly'] == 1)].head()"
   ]
  },
  {
   "cell_type": "code",
   "execution_count": 21,
   "metadata": {},
   "outputs": [],
   "source": [
    "lastday = final_processed_data['Time'].max().date()\n",
    "last_day_records = final_processed_data[final_processed_data['Time'].dt.date == lastday]\n",
    "\n",
    "sensor_sample_data = combined_data[combined_data['Time'].dt.date == lastday]"
   ]
  },
  {
   "cell_type": "code",
   "execution_count": 22,
   "metadata": {},
   "outputs": [
    {
     "data": {
      "image/png": "[encoded data removed]",
      "text/plain": [
       "<Figure size 2000x600 with 2 Axes>"
      ]
     },
     "metadata": {},
     "output_type": "display_data"
    }
   ],
   "source": [
    "# Set style\n",
    "sns.set(style=\"darkgrid\")\n",
    "\n",
    "# Create a figure with 1 row and 2 columns\n",
    "fig, axs = plt.subplots(1, 2, figsize=(20, 6), sharey=True)\n",
    "\n",
    "# Original data\n",
    "sensor_data = sensor_sample_data[sensor_sample_data['Sensor ID'] == '04757']\n",
    "sns.lineplot(ax=axs[0], x='Time', y='Temperature', data=sensor_data, \n",
    "             marker='*', color='blue',\n",
    "             label='Actual Sensor 04757')\n",
    "\n",
    "# Filtered data\n",
    "filtered_sensor_data = last_day_records[last_day_records['Sensor ID'] == '04757']\n",
    "sns.lineplot(ax=axs[1], x='Time', y='Temperature', data=filtered_sensor_data, \n",
    "             marker='o', color='red',\n",
    "             linestyle='--', label='Anomaly Data of Sensor 04757')\n",
    "\n",
    "# Titles and labels\n",
    "axs[0].set_title('Actual Sensor Data')\n",
    "axs[1].set_title('Anomaly Sensor Data')\n",
    "\n",
    "for ax in axs:\n",
    "    ax.set_xlabel('Timestamp')\n",
    "    ax.set_ylabel('Temperature (°C)')\n",
    "    ax.legend()\n",
    "    ax.tick_params(axis='x', rotation=45)\n",
    "\n",
    "# Adjust layout and save the figure\n",
    "plt.tight_layout()\n",
    "plt.savefig('Compare/original_and_filtered_plots_side_by_side.png')\n",
    "plt.show()"
   ]
  },
  {
   "cell_type": "code",
   "execution_count": null,
   "metadata": {},
   "outputs": [],
   "source": []
  }
 ],
 "metadata": {
  "kernelspec": {
   "display_name": "env",
   "language": "python",
   "name": "python3"
  },
  "language_info": {
   "codemirror_mode": {
    "name": "ipython",
    "version": 3
   },
   "file_extension": ".py",
   "mimetype": "text/x-python",
   "name": "python",
   "nbconvert_exporter": "python",
   "pygments_lexer": "ipython3",
   "version": "3.11.0"
  }
 },
 "nbformat": 4,
 "nbformat_minor": 2
}
